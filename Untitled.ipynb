{
 "cells": [
  {
   "cell_type": "code",
   "execution_count": 1,
   "metadata": {},
   "outputs": [],
   "source": [
    "import pandas as pd"
   ]
  },
  {
   "cell_type": "code",
   "execution_count": 14,
   "metadata": {},
   "outputs": [],
   "source": [
    "df=pd.read_html(\"https://ycharts.com/indicators/5_year_treasury_rate\")"
   ]
  },
  {
   "cell_type": "code",
   "execution_count": 15,
   "metadata": {},
   "outputs": [
    {
     "data": {
      "text/plain": [
       "[                           0      1\n",
       " 0   Data for this Date Range    NaN\n",
       " 1             April 10, 2019  2.28%\n",
       " 2              April 9, 2019  2.31%\n",
       " 3              April 8, 2019  2.33%\n",
       " 4              April 5, 2019  2.31%\n",
       " 5              April 4, 2019  2.32%\n",
       " 6              April 3, 2019  2.32%\n",
       " 7              April 2, 2019  2.28%\n",
       " 8              April 1, 2019  2.31%\n",
       " 9             March 29, 2019  2.23%\n",
       " 10            March 28, 2019  2.20%\n",
       " 11            March 27, 2019  2.18%\n",
       " 12            March 26, 2019  2.18%\n",
       " 13            March 25, 2019  2.21%\n",
       " 14            March 22, 2019  2.24%\n",
       " 15            March 21, 2019  2.34%\n",
       " 16            March 20, 2019  2.34%\n",
       " 17            March 19, 2019  2.42%\n",
       " 18            March 18, 2019  2.42%\n",
       " 19            March 15, 2019  2.40%\n",
       " 20            March 14, 2019  2.43%\n",
       " 21            March 13, 2019  2.42%\n",
       " 22            March 12, 2019  2.41%\n",
       " 23            March 11, 2019  2.44%\n",
       " 24             March 8, 2019  2.42%\n",
       " 25             March 7, 2019  2.44%,                 0      1\n",
       " 0             NaN    NaN\n",
       " 1   March 6, 2019  2.49%\n",
       " 2   March 5, 2019  2.53%\n",
       " 3   March 4, 2019  2.53%\n",
       " 4   March 1, 2019  2.56%\n",
       " 5   Feb. 28, 2019  2.52%\n",
       " 6   Feb. 27, 2019  2.49%\n",
       " 7   Feb. 26, 2019  2.45%\n",
       " 8   Feb. 25, 2019  2.48%\n",
       " 9   Feb. 22, 2019  2.47%\n",
       " 10  Feb. 21, 2019  2.51%\n",
       " 11  Feb. 20, 2019  2.47%\n",
       " 12  Feb. 19, 2019  2.47%\n",
       " 13  Feb. 15, 2019  2.49%\n",
       " 14  Feb. 14, 2019  2.48%\n",
       " 15  Feb. 13, 2019  2.53%\n",
       " 16  Feb. 12, 2019  2.49%\n",
       " 17  Feb. 11, 2019  2.47%\n",
       " 18   Feb. 8, 2019  2.44%\n",
       " 19   Feb. 7, 2019  2.46%\n",
       " 20   Feb. 6, 2019  2.50%\n",
       " 21   Feb. 5, 2019  2.51%\n",
       " 22   Feb. 4, 2019  2.53%\n",
       " 23   Feb. 1, 2019  2.51%\n",
       " 24  Jan. 31, 2019  2.43%\n",
       " 25  Jan. 30, 2019  2.49%]"
      ]
     },
     "execution_count": 15,
     "metadata": {},
     "output_type": "execute_result"
    }
   ],
   "source": [
    "df"
   ]
  },
  {
   "cell_type": "code",
   "execution_count": null,
   "metadata": {},
   "outputs": [],
   "source": []
  }
 ],
 "metadata": {
  "kernelspec": {
   "display_name": "Python 3",
   "language": "python",
   "name": "python3"
  }
 },
 "nbformat": 4,
 "nbformat_minor": 2
}
