{
 "cells": [
  {
   "cell_type": "code",
   "execution_count": 42,
   "metadata": {},
   "outputs": [
    {
     "name": "stdout",
     "output_type": "stream",
     "text": [
      "The zipline extension is already loaded. To reload it, use:\n",
      "  %reload_ext zipline\n"
     ]
    }
   ],
   "source": [
    "%load_ext zipline\n",
    "import pandas as pd\n",
    "from collections import OrderedDict\n",
    "import pytz\n",
    "from zipline.api import order, record, symbol, set_benchmark, order_target_percent, get_open_orders\n",
    "import zipline\n",
    "import matplotlib.pyplot as plt\n",
    "from trading_calendars import get_calendar\n",
    "from datetime import datetime\n"
   ]
  },
  {
   "cell_type": "code",
   "execution_count": null,
   "metadata": {},
   "outputs": [],
   "source": [
    "import pandas as pd\n",
    "from collections import OrderedDict\n",
    "import pytz\n",
    "data = OrderedDict()\n",
    "data['BTC'] = pd.read_csv(\"BTC-USD.csv\")\n",
    "\n",
    "data['BTC']['date'] = pd.to_datetime(data['BTC']['time'], unit='s', utc=True)\n",
    "data['BTC'].set_index('date', inplace=True)\n",
    "data['BTC'].drop('time', axis=1, inplace=True)\n",
    "data['BTC'] = data['BTC'].resample(\"1min\").mean()\n",
    "data['BTC'].fillna(method=\"ffill\", inplace=True)\n",
    "data['BTC'] = data['BTC'][[\"low\",\"high\",\"open\",\"close\",\"volume\"]]\n",
    "print(data['BTC'].head())\n",
    "\n",
    "panel = pd.Panel(data)\n",
    "panel.minor_axis = [\"low\",\"high\",\"open\",\"close\",\"volume\"]\n",
    "panel.major_axis = panel.major_axis.tz_localize(pytz.utc)\n",
    "print(panel)"
   ]
  },
  {
   "cell_type": "code",
   "execution_count": 53,
   "metadata": {},
   "outputs": [],
   "source": [
    "def initialize(context):\n",
    "    set_benchmark(symbol(\"BTC\"))\n",
    "\n",
    "\n",
    "def handle_data(context, data):\n",
    "\n",
    "    slowma = data.history(symbol(\"BTC\"), fields='price', bar_count=50, frequency='1m').mean()\n",
    "    fastma = data.history(symbol(\"BTC\"), fields='price', bar_count=10, frequency='1m').mean()\n",
    "\n",
    "\n",
    "    if fastma < slowma:\n",
    "        if symbol(\"BTC\") not in get_open_orders():\n",
    "            order_target_percent(symbol(\"BTC\"), 0.04)\n",
    "\n",
    "    if fastma > slowma:\n",
    "        if symbol(\"BTC\") not in get_open_orders():\n",
    "            order_target_percent(symbol(\"BTC\"), 0.96)\n",
    "\n",
    "    record(BTC=data.current(symbol('BTC'), fields='price'))"
   ]
  },
  {
   "cell_type": "code",
   "execution_count": null,
   "metadata": {},
   "outputs": [],
   "source": [
    "perf = zipline.run_algorithm(start=datetime(2015, 3, 25, 0, 0, 0, 0, pytz.utc),\n",
    "                      end=datetime(2016, 3, 26, 0, 0, 0, 0, pytz.utc),\n",
    "                      initialize=initialize,\n",
    "                      capital_base=10000,\n",
    "                      handle_data=handle_data,\n",
    "                      data_frequency ='minute',\n",
    "                      data=panel)"
   ]
  },
  {
   "cell_type": "code",
   "execution_count": null,
   "metadata": {},
   "outputs": [],
   "source": [
    "import matplotlib.pyplot as plt\n",
    "from matplotlib import style\n",
    "\n",
    "style.use(\"ggplot\")\n",
    "\n",
    "perf.portfolio_value.pct_change().fillna(0).add(1).cumprod().sub(1).plot(label='portfolio')\n",
    "perf.BTC.pct_change().fillna(0).add(1).cumprod().sub(1).plot(label='benchmark')\n",
    "plt.legend(loc=2)\n",
    "\n",
    "plt.show()"
   ]
  }
 ],
 "metadata": {
  "kernelspec": {
   "display_name": "Python 3",
   "language": "python",
   "name": "python3"
  },
  "language_info": {
   "codemirror_mode": {
    "name": "ipython",
    "version": 3
   },
   "file_extension": ".py",
   "mimetype": "text/x-python",
   "name": "python",
   "nbconvert_exporter": "python",
   "pygments_lexer": "ipython3",
   "version": "3.5.6"
  }
 },
 "nbformat": 4,
 "nbformat_minor": 2
}
