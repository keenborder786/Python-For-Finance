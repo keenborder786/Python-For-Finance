{
 "cells": [
  {
   "cell_type": "code",
   "execution_count": 2,
   "metadata": {},
   "outputs": [
    {
     "data": {
      "text/html": [
       "<div>\n",
       "<table border=\"1\" class=\"dataframe\">\n",
       "  <thead>\n",
       "    <tr style=\"text-align: right;\">\n",
       "      <th></th>\n",
       "      <th></th>\n",
       "      <th>testing_factor</th>\n",
       "    </tr>\n",
       "  </thead>\n",
       "  <tbody>\n",
       "    <tr>\n",
       "      <th rowspan=\"5\" valign=\"top\">2015-01-02 00:00:00+00:00</th>\n",
       "      <th>Equity(2 [ARNC])</th>\n",
       "      <td>755.0</td>\n",
       "    </tr>\n",
       "    <tr>\n",
       "      <th>Equity(24 [AAPL])</th>\n",
       "      <td>946.0</td>\n",
       "    </tr>\n",
       "    <tr>\n",
       "      <th>Equity(41 [ARCB])</th>\n",
       "      <td>1003.0</td>\n",
       "    </tr>\n",
       "    <tr>\n",
       "      <th>Equity(62 [ABT])</th>\n",
       "      <td>597.0</td>\n",
       "    </tr>\n",
       "    <tr>\n",
       "      <th>Equity(67 [ADSK])</th>\n",
       "      <td>912.0</td>\n",
       "    </tr>\n",
       "  </tbody>\n",
       "</table>\n",
       "</div>"
      ],
      "text/plain": [
       "                                             testing_factor\n",
       "2015-01-02 00:00:00+00:00 Equity(2 [ARNC])            755.0\n",
       "                          Equity(24 [AAPL])           946.0\n",
       "                          Equity(41 [ARCB])          1003.0\n",
       "                          Equity(62 [ABT])            597.0\n",
       "                          Equity(67 [ADSK])           912.0"
      ]
     },
     "execution_count": 2,
     "metadata": {},
     "output_type": "execute_result"
    }
   ],
   "source": [
    "from quantopian.pipeline import Pipeline\n",
    "from quantopian.research import run_pipeline\n",
    "from quantopian.pipeline.filters.morningstar import Q1500US\n",
    "from quantopian.pipeline.data.sentdex import sentiment\n",
    "from quantopian.pipeline.data.morningstar  import operation_ratios\n",
    "\n",
    "\n",
    "def make_pipeline():\n",
    "    testing_factor=operation_ratios.revenue_growth.latest\n",
    "    \n",
    "    universe=(Q1500US()&testing_factor.notnull())\n",
    "    \n",
    "    testing_factor=testing_factor.rank(mask=universe,method='average')\n",
    "    pipe=Pipeline(columns={\"testing_factor\":testing_factor},\n",
    "                 screen=universe)\n",
    "    \n",
    "    return pipe\n",
    "result=run_pipeline(make_pipeline(),start_date='2015-01-01',end_date='2016-01-01')\n",
    "result.head()\n",
    "    \n"
   ]
  },
  {
   "cell_type": "code",
   "execution_count": 3,
   "metadata": {},
   "outputs": [
    {
     "data": {
      "text/plain": [
       "1734"
      ]
     },
     "execution_count": 3,
     "metadata": {},
     "output_type": "execute_result"
    }
   ],
   "source": [
    "assets=result.index.levels[1].unique()\n",
    "pricing=get_pricing(assets,start_date='2014-12-01',end_date='2016-01-01',fields=\"open_price\")\n",
    "len(assets)"
   ]
  },
  {
   "cell_type": "code",
   "execution_count": null,
   "metadata": {},
   "outputs": [
    {
     "name": "stdout",
     "output_type": "stream",
     "text": [
      "Dropped 12.8% entries from factor data: 12.8% in forward returns computation and 0.0% in binning phase (set max_loss=0 to see potentially suppressed Exceptions).\n",
      "max_loss is 35.0%, not exceeded: OK!\n",
      "Quantiles Statistics\n"
     ]
    },
    {
     "data": {
      "text/html": [
       "<div>\n",
       "<table border=\"1\" class=\"dataframe\">\n",
       "  <thead>\n",
       "    <tr style=\"text-align: right;\">\n",
       "      <th></th>\n",
       "      <th>min</th>\n",
       "      <th>max</th>\n",
       "      <th>mean</th>\n",
       "      <th>std</th>\n",
       "      <th>count</th>\n",
       "      <th>count %</th>\n",
       "    </tr>\n",
       "    <tr>\n",
       "      <th>factor_quantile</th>\n",
       "      <th></th>\n",
       "      <th></th>\n",
       "      <th></th>\n",
       "      <th></th>\n",
       "      <th></th>\n",
       "      <th></th>\n",
       "    </tr>\n",
       "  </thead>\n",
       "  <tbody>\n",
       "    <tr>\n",
       "      <th>1</th>\n",
       "      <td>1.0</td>\n",
       "      <td>754.0</td>\n",
       "      <td>373.595137</td>\n",
       "      <td>215.433377</td>\n",
       "      <td>164521</td>\n",
       "      <td>50.014896</td>\n",
       "    </tr>\n",
       "    <tr>\n",
       "      <th>2</th>\n",
       "      <td>737.0</td>\n",
       "      <td>1500.0</td>\n",
       "      <td>1119.589553</td>\n",
       "      <td>215.189735</td>\n",
       "      <td>164423</td>\n",
       "      <td>49.985104</td>\n",
       "    </tr>\n",
       "  </tbody>\n",
       "</table>\n",
       "</div>"
      ],
      "text/plain": [
       "                   min     max         mean         std   count    count %\n",
       "factor_quantile                                                           \n",
       "1                  1.0   754.0   373.595137  215.433377  164521  50.014896\n",
       "2                737.0  1500.0  1119.589553  215.189735  164423  49.985104"
      ]
     },
     "metadata": {},
     "output_type": "display_data"
    },
    {
     "name": "stdout",
     "output_type": "stream",
     "text": [
      "Returns Analysis\n"
     ]
    },
    {
     "data": {
      "text/html": [
       "<div>\n",
       "<table border=\"1\" class=\"dataframe\">\n",
       "  <thead>\n",
       "    <tr style=\"text-align: right;\">\n",
       "      <th></th>\n",
       "      <th>3D</th>\n",
       "      <th>10D</th>\n",
       "      <th>30D</th>\n",
       "    </tr>\n",
       "  </thead>\n",
       "  <tbody>\n",
       "    <tr>\n",
       "      <th>Ann. alpha</th>\n",
       "      <td>0.034</td>\n",
       "      <td>0.037</td>\n",
       "      <td>0.046</td>\n",
       "    </tr>\n",
       "    <tr>\n",
       "      <th>beta</th>\n",
       "      <td>0.001</td>\n",
       "      <td>-0.006</td>\n",
       "      <td>0.009</td>\n",
       "    </tr>\n",
       "    <tr>\n",
       "      <th>Mean Period Wise Return Top Quantile (bps)</th>\n",
       "      <td>3.203</td>\n",
       "      <td>3.382</td>\n",
       "      <td>4.215</td>\n",
       "    </tr>\n",
       "    <tr>\n",
       "      <th>Mean Period Wise Return Bottom Quantile (bps)</th>\n",
       "      <td>-3.199</td>\n",
       "      <td>-3.382</td>\n",
       "      <td>-4.229</td>\n",
       "    </tr>\n",
       "    <tr>\n",
       "      <th>Mean Period Wise Spread (bps)</th>\n",
       "      <td>6.402</td>\n",
       "      <td>6.764</td>\n",
       "      <td>8.445</td>\n",
       "    </tr>\n",
       "  </tbody>\n",
       "</table>\n",
       "</div>"
      ],
      "text/plain": [
       "                                                  3D    10D    30D\n",
       "Ann. alpha                                     0.034  0.037  0.046\n",
       "beta                                           0.001 -0.006  0.009\n",
       "Mean Period Wise Return Top Quantile (bps)     3.203  3.382  4.215\n",
       "Mean Period Wise Return Bottom Quantile (bps) -3.199 -3.382 -4.229\n",
       "Mean Period Wise Spread (bps)                  6.402  6.764  8.445"
      ]
     },
     "metadata": {},
     "output_type": "display_data"
    },
    {
     "data": {
      "text/plain": [
       "<matplotlib.figure.Figure at 0x7f1a04463b90>"
      ]
     },
     "metadata": {},
     "output_type": "display_data"
    }
   ],
   "source": [
    "import alphalens\n",
    "\n",
    "factor_data = alphalens.utils.get_clean_factor_and_forward_returns(factor = result['testing_factor'],\n",
    "                                        prices = pricing[\"open_price\"],\n",
    "                                        quantiles = 2,\n",
    "                                        periods = (3,10,30))\n",
    "\n",
    "alphalens.tears.create_full_tear_sheet(factor_data)"
   ]
  },
  {
   "cell_type": "code",
   "execution_count": null,
   "metadata": {},
   "outputs": [],
   "source": []
  }
 ],
 "metadata": {
  "kernelspec": {
   "display_name": "Python 2",
   "language": "python",
   "name": "python2"
  }
 },
 "nbformat": 4,
 "nbformat_minor": 2
}
